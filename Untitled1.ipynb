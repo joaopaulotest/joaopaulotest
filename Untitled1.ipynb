{
  "nbformat": 4,
  "nbformat_minor": 0,
  "metadata": {
    "colab": {
      "provenance": [],
      "authorship_tag": "ABX9TyMcRZK4vomLFaVLi2PSZ37r",
      "include_colab_link": true
    },
    "kernelspec": {
      "name": "python3",
      "display_name": "Python 3"
    },
    "language_info": {
      "name": "python"
    }
  },
  "cells": [
    {
      "cell_type": "markdown",
      "metadata": {
        "id": "view-in-github",
        "colab_type": "text"
      },
      "source": [
        "<a href=\"https://colab.research.google.com/github/joaopaulotest/joaopaulotest/blob/main/Untitled1.ipynb\" target=\"_parent\"><img src=\"https://colab.research.google.com/assets/colab-badge.svg\" alt=\"Open In Colab\"/></a>"
      ]
    },
    {
      "cell_type": "code",
      "source": [
        "## RELATÓRIO TÉCNICO - PROCESSAMENTO DIGITAL DE SINAIS ##"
      ],
      "metadata": {
        "id": "md2IYmi_MuTo"
      },
      "execution_count": null,
      "outputs": []
    },
    {
      "cell_type": "code",
      "source": [
        "import cv2\n",
        "import numpy as np\n",
        "import matplotlib.pyplot as plt\n",
        "from tkinter import Tk\n",
        "from tkinter.filedialog import askopenfilename\n",
        "\n",
        "# Abrir um seletor de arquivos para carregar a imagem manualmente\n",
        "Tk().withdraw()  # Oculta a janela principal do Tkinter\n",
        "caminho_imagem = askopenfilename(title=\"Selecione a imagem para o Filtro da Média\")  # Abre a janela de seleção\n",
        "imagem = cv2.imread(caminho_imagem)  # Carrega a imagem selecionada\n",
        "if imagem is None:  # Verifica se a imagem foi carregada corretamente\n",
        "    raise ValueError(\"Nenhuma imagem foi carregada ou o formato é inválido!\")\n",
        "\n",
        "# Converter para RGB\n",
        "imagem_rgb = cv2.cvtColor(imagem, cv2.COLOR_BGR2RGB)\n",
        "\n",
        "# Aplicar o filtro da média com diferentes tamanhos de vizinhança\n",
        "filtros = [3, 5, 7]\n",
        "resultados = []\n",
        "\n",
        "for tamanho in filtros:\n",
        "    imagem_filtrada = cv2.blur(imagem_rgb, (tamanho, tamanho))\n",
        "    resultados.append(imagem_filtrada)\n",
        "\n",
        "# Plotar os resultados\n",
        "plt.figure(figsize=(15, 10))\n",
        "plt.subplot(2, 2, 1)\n",
        "plt.imshow(imagem_rgb)\n",
        "plt.title(\"Imagem Original\")\n",
        "plt.axis(\"off\")\n",
        "\n",
        "for i, tamanho in enumerate(filtros):\n",
        "    plt.subplot(2, 2, i + 2)\n",
        "    plt.imshow(resultados[i])\n",
        "    plt.title(f\"Filtro da Média {tamanho}x{tamanho}\")\n",
        "    plt.axis(\"off\")\n",
        "\n",
        "plt.show()"
      ],
      "metadata": {
        "id": "Sc4aLeVZboU5"
      },
      "execution_count": null,
      "outputs": []
    }
  ]
}