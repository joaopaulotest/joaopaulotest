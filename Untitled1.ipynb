{
  "nbformat": 4,
  "nbformat_minor": 0,
  "metadata": {
    "colab": {
      "provenance": [],
      "authorship_tag": "ABX9TyOOaPMpl8FENAkF0GJSyqsD",
      "include_colab_link": true
    },
    "kernelspec": {
      "name": "python3",
      "display_name": "Python 3"
    },
    "language_info": {
      "name": "python"
    }
  },
  "cells": [
    {
      "cell_type": "markdown",
      "metadata": {
        "id": "view-in-github",
        "colab_type": "text"
      },
      "source": [
        "<a href=\"https://colab.research.google.com/github/joaopaulotest/joaopaulotest/blob/main/Untitled1.ipynb\" target=\"_parent\"><img src=\"https://colab.research.google.com/assets/colab-badge.svg\" alt=\"Open In Colab\"/></a>"
      ]
    },
    {
      "cell_type": "code",
      "execution_count": null,
      "metadata": {
        "id": "U1BE--qztoT2"
      },
      "outputs": [],
      "source": [
        "## relatório Processamento Digital de Sinais ##\n"
      ]
    },
    {
      "cell_type": "code",
      "source": [
        "# **Instalar bibliotecas necessárias**\n",
        "# Nesta seção, instalamos as bibliotecas essenciais para o processamento digital de imagens,\n",
        "# incluindo OpenCV para manipulação de imagens, NumPy para cálculos numéricos e Matplotlib para visualização gráfica.\n",
        "\n",
        "# Atualizando o pip para evitar conflitos e instalando as bibliotecas necessárias\n",
        "!pip install --upgrade pip\n",
        "!pip install opencv-python-headless matplotlib numpy"
      ],
      "metadata": {
        "id": "sgwN4RHlvRMC"
      },
      "execution_count": null,
      "outputs": []
    },
    {
      "cell_type": "code",
      "source": [
        "# Importando as bibliotecas\n",
        "import cv2  # Biblioteca para processamento de imagens\n",
        "import numpy as np  # Biblioteca para cálculos numéricos\n",
        "import matplotlib.pyplot as plt  # Biblioteca para exibição gráfica\n",
        "from PIL import Image  # Manipulação de imagens\n",
        "from google.colab import files  # Upload de arquivos no Google Colab"
      ],
      "metadata": {
        "id": "woYZPBD3xiSq"
      },
      "execution_count": null,
      "outputs": []
    }
  ]
}