{
  "nbformat": 4,
  "nbformat_minor": 0,
  "metadata": {
    "colab": {
      "provenance": [],
      "authorship_tag": "ABX9TyPL2Wlcy1IXUlr7o07Qsj4p",
      "include_colab_link": true
    },
    "kernelspec": {
      "name": "python3",
      "display_name": "Python 3"
    },
    "language_info": {
      "name": "python"
    }
  },
  "cells": [
    {
      "cell_type": "markdown",
      "metadata": {
        "id": "view-in-github",
        "colab_type": "text"
      },
      "source": [
        "<a href=\"https://colab.research.google.com/github/joaopaulotest/joaopaulotest/blob/main/Untitled1.ipynb\" target=\"_parent\"><img src=\"https://colab.research.google.com/assets/colab-badge.svg\" alt=\"Open In Colab\"/></a>"
      ]
    },
    {
      "cell_type": "code",
      "source": [
        "## RELATÓRIO TÉCNICO - PROCESSAMENTO DIGITAL DE SINAIS ##"
      ],
      "metadata": {
        "id": "md2IYmi_MuTo"
      },
      "execution_count": null,
      "outputs": []
    },
    {
      "cell_type": "code",
      "source": [
        "# Importando as bibliotecas necessárias\n",
        "import cv2  # Para carregar e processar imagens\n",
        "import numpy as np  # Para manipulação de matrizes\n",
        "import matplotlib.pyplot as plt  # Para visualização dos resultados\n",
        "\n",
        "# Carregar a imagem original no formato BGR\n",
        "# \"paisagem.jpg\" é a imagem selecionada para este tópico\n",
        "# Usando um caminho absoluto para evitar problemas com caminhos relativos\n",
        "imagem = cv2.imread(\"/content/drive/MyDrive/PDI/paisagem.jpg\")\n",
        "\n",
        "# Verifique se a imagem foi carregada corretamente\n",
        "if imagem is None:\n",
        "    print(\"Erro ao carregar a imagem. Verifique o caminho do arquivo.\")\n",
        "    # Em vez de exit(), levante uma exceção para interromper a execução,\n",
        "    # mas permitir a depuração\n",
        "    raise FileNotFoundError(\"The image file was not found.\")\n",
        "\n",
        "# Aplicar o filtro da média com diferentes tamanhos de vizinhança\n",
        "# O filtro da média calcula a média dos pixels em uma janela deslizante (kernel) ao redor de cada pixel\n",
        "filtros = [3, 5, 7]  # Tamanhos de kernel a serem testados\n",
        "resultados = []  # Lista para armazenar as imagens resultantes\n",
        "\n",
        "for tamanho in filtros:\n",
        "    # Aplicar o filtro da média com kernel de tamanho 'tamanho x tamanho'\n",
        "    imagem_filtrada = cv2.blur(imagem, (tamanho, tamanho))\n",
        "    resultados.append(imagem_filtrada)  # Armazenar o resultado para visualização\n",
        "\n",
        "# Plotar os resultados para análise\n",
        "plt.figure(figsize=(15, 10))  # Define o tamanho da figura\n",
        "\n",
        "# Exibir a imagem original\n",
        "plt.subplot(2, 2, 1)  # Posiciona o gráfico\n",
        "# Converter a imagem de BGR para RGB para exibição correta com matplotlib\n",
        "plt.imshow(cv2.cvtColor(imagem, cv2.COLOR_BGR2RGB))\n",
        "plt.title(\"Imagem Original\")  # Título\n",
        "plt.axis(\"off\")  # Remove os eixos para melhor visualização\n",
        "\n",
        "# Exibir as imagens filtradas\n",
        "for i, tamanho in enumerate(filtros):\n",
        "    plt.subplot(2, 2, i + 2)  # Posiciona a imagem na grade\n",
        "    # Converter a imagem de BGR para RGB para exibição correta com matplotlib\n",
        "    plt.imshow(cv2.cvtColor(resultados[i], cv2.COLOR_BGR2RGB))\n",
        "    plt.title(f\"Filtro da Média {tamanho}x{tamanho}\")  # Título com o tamanho do kernel\n",
        "    plt.axis(\"off\")  # Remove os eixos\n",
        "\n",
        "# Mostrar as imagens\n",
        "plt.show()"
      ],
      "metadata": {
        "id": "8vUS__2UZ3Ym"
      },
      "execution_count": null,
      "outputs": []
    }
  ]
}